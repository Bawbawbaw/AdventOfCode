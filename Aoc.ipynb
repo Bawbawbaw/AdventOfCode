{
 "cells": [
  {
   "cell_type": "markdown",
   "id": "893ac484",
   "metadata": {},
   "source": [
    "Advent of Code 2020\n",
    "-------------------\n",
    "https://adventofcode.com/2020/"
   ]
  },
  {
   "cell_type": "markdown",
   "id": "9bba5d98",
   "metadata": {},
   "source": [
    "## Day 1"
   ]
  },
  {
   "cell_type": "markdown",
   "id": "9bf4af37",
   "metadata": {},
   "source": [
    "--- Day 1: Report Repair ---\n",
    "\n",
    "After saving Christmas five years in a row, you've decided to take a vacation at a nice resort on a tropical island. Surely, Christmas will go on without you.\n",
    "\n",
    "The tropical island has its own currency and is entirely cash-only. The gold coins used there have a little picture of a starfish; the locals just call them stars. None of the currency exchanges seem to have heard of them, but somehow, you'll need to find fifty of these coins by the time you arrive so you can pay the deposit on your room.\n",
    "\n",
    "To save your vacation, you need to get all fifty stars by December 25th.\n",
    "\n",
    "Collect stars by solving puzzles. Two puzzles will be made available on each day in the Advent calendar; the second puzzle is unlocked when you complete the first. Each puzzle grants one star. Good luck!\n",
    "\n",
    "Before you leave, the Elves in accounting just need you to fix your expense report (your puzzle input); apparently, something isn't quite adding up.\n",
    "\n",
    "Specifically, they need you to find the two entries that sum to 2020 and then multiply those two numbers together.\n",
    "\n",
    "For example, suppose your expense report contained the following:\n",
    "\n",
    "1721\n",
    "979\n",
    "366\n",
    "299\n",
    "675\n",
    "1456\n",
    "In this list, the two entries that sum to 2020 are 1721 and 299. Multiplying them together produces 1721 * 299 = 514579, so the correct answer is 514579.\n",
    "\n",
    "Of course, your expense report is much larger. Find the two entries that sum to 2020; what do you get if you multiply them together?"
   ]
  },
  {
   "cell_type": "code",
   "execution_count": 2,
   "id": "bf9cc2fd",
   "metadata": {},
   "outputs": [],
   "source": [
    "import pandas as pd"
   ]
  },
  {
   "cell_type": "code",
   "execution_count": 76,
   "id": "2c20e9ea",
   "metadata": {},
   "outputs": [
    {
     "name": "stdout",
     "output_type": "stream",
     "text": [
      "Preview of the data\n",
      "        0\n",
      "0    1645\n",
      "1    1995\n",
      "2    1658\n",
      "3    1062\n",
      "4    1472\n",
      "..    ...\n",
      "195  1423\n",
      "196  1718\n",
      "197  1714\n",
      "198  1923\n",
      "199  1503\n",
      "\n",
      "[200 rows x 1 columns]\n"
     ]
    }
   ],
   "source": [
    "data = pd.read_csv('input.txt', header=None)\n",
    "print('Preview of the data')\n",
    "print(data)"
   ]
  },
  {
   "cell_type": "code",
   "execution_count": 77,
   "id": "737d51cf",
   "metadata": {},
   "outputs": [
    {
     "data": {
      "text/html": [
       "<div>\n",
       "<style scoped>\n",
       "    .dataframe tbody tr th:only-of-type {\n",
       "        vertical-align: middle;\n",
       "    }\n",
       "\n",
       "    .dataframe tbody tr th {\n",
       "        vertical-align: top;\n",
       "    }\n",
       "\n",
       "    .dataframe thead th {\n",
       "        text-align: right;\n",
       "    }\n",
       "</style>\n",
       "<table border=\"1\" class=\"dataframe\">\n",
       "  <thead>\n",
       "    <tr style=\"text-align: right;\">\n",
       "      <th></th>\n",
       "      <th>ori</th>\n",
       "      <th>copy</th>\n",
       "    </tr>\n",
       "  </thead>\n",
       "  <tbody>\n",
       "    <tr>\n",
       "      <th>0</th>\n",
       "      <td>1645</td>\n",
       "      <td>1645</td>\n",
       "    </tr>\n",
       "    <tr>\n",
       "      <th>1</th>\n",
       "      <td>1995</td>\n",
       "      <td>1995</td>\n",
       "    </tr>\n",
       "    <tr>\n",
       "      <th>2</th>\n",
       "      <td>1658</td>\n",
       "      <td>1658</td>\n",
       "    </tr>\n",
       "    <tr>\n",
       "      <th>3</th>\n",
       "      <td>1062</td>\n",
       "      <td>1062</td>\n",
       "    </tr>\n",
       "    <tr>\n",
       "      <th>4</th>\n",
       "      <td>1472</td>\n",
       "      <td>1472</td>\n",
       "    </tr>\n",
       "    <tr>\n",
       "      <th>...</th>\n",
       "      <td>...</td>\n",
       "      <td>...</td>\n",
       "    </tr>\n",
       "    <tr>\n",
       "      <th>195</th>\n",
       "      <td>1423</td>\n",
       "      <td>1423</td>\n",
       "    </tr>\n",
       "    <tr>\n",
       "      <th>196</th>\n",
       "      <td>1718</td>\n",
       "      <td>1718</td>\n",
       "    </tr>\n",
       "    <tr>\n",
       "      <th>197</th>\n",
       "      <td>1714</td>\n",
       "      <td>1714</td>\n",
       "    </tr>\n",
       "    <tr>\n",
       "      <th>198</th>\n",
       "      <td>1923</td>\n",
       "      <td>1923</td>\n",
       "    </tr>\n",
       "    <tr>\n",
       "      <th>199</th>\n",
       "      <td>1503</td>\n",
       "      <td>1503</td>\n",
       "    </tr>\n",
       "  </tbody>\n",
       "</table>\n",
       "<p>200 rows × 2 columns</p>\n",
       "</div>"
      ],
      "text/plain": [
       "      ori  copy\n",
       "0    1645  1645\n",
       "1    1995  1995\n",
       "2    1658  1658\n",
       "3    1062  1062\n",
       "4    1472  1472\n",
       "..    ...   ...\n",
       "195  1423  1423\n",
       "196  1718  1718\n",
       "197  1714  1714\n",
       "198  1923  1923\n",
       "199  1503  1503\n",
       "\n",
       "[200 rows x 2 columns]"
      ]
     },
     "execution_count": 77,
     "metadata": {},
     "output_type": "execute_result"
    }
   ],
   "source": [
    "#storing the data in a dataframe and creating a second column with exactly\n",
    "#the same values, to facilitate the calculation\n",
    "\n",
    "data[1] = data[0]\n",
    "data.columns=['ori','copy']\n",
    "data"
   ]
  },
  {
   "cell_type": "code",
   "execution_count": 78,
   "id": "14dc9909",
   "metadata": {},
   "outputs": [
    {
     "name": "stdout",
     "output_type": "stream",
     "text": [
      "Number of possibilities (with doublons) : 39800\n"
     ]
    }
   ],
   "source": [
    "nb_poss = (len(data)**2)-len(data)\n",
    "print('Number of possibilities (with doublons) : {}'.format(nb_poss))"
   ]
  },
  {
   "cell_type": "code",
   "execution_count": 41,
   "id": "6a4250fe",
   "metadata": {},
   "outputs": [
    {
     "data": {
      "text/html": [
       "<div>\n",
       "<style scoped>\n",
       "    .dataframe tbody tr th:only-of-type {\n",
       "        vertical-align: middle;\n",
       "    }\n",
       "\n",
       "    .dataframe tbody tr th {\n",
       "        vertical-align: top;\n",
       "    }\n",
       "\n",
       "    .dataframe thead th {\n",
       "        text-align: right;\n",
       "    }\n",
       "</style>\n",
       "<table border=\"1\" class=\"dataframe\">\n",
       "  <thead>\n",
       "    <tr style=\"text-align: right;\">\n",
       "      <th></th>\n",
       "      <th>chiffre1</th>\n",
       "      <th>chiffre2</th>\n",
       "      <th>resultat</th>\n",
       "    </tr>\n",
       "  </thead>\n",
       "  <tbody>\n",
       "    <tr>\n",
       "      <th>0</th>\n",
       "      <td>1645</td>\n",
       "      <td>1995</td>\n",
       "      <td>3640</td>\n",
       "    </tr>\n",
       "    <tr>\n",
       "      <th>1</th>\n",
       "      <td>1645</td>\n",
       "      <td>1658</td>\n",
       "      <td>3303</td>\n",
       "    </tr>\n",
       "    <tr>\n",
       "      <th>2</th>\n",
       "      <td>1645</td>\n",
       "      <td>1062</td>\n",
       "      <td>2707</td>\n",
       "    </tr>\n",
       "    <tr>\n",
       "      <th>3</th>\n",
       "      <td>1645</td>\n",
       "      <td>1472</td>\n",
       "      <td>3117</td>\n",
       "    </tr>\n",
       "    <tr>\n",
       "      <th>4</th>\n",
       "      <td>1645</td>\n",
       "      <td>1710</td>\n",
       "      <td>3355</td>\n",
       "    </tr>\n",
       "    <tr>\n",
       "      <th>...</th>\n",
       "      <td>...</td>\n",
       "      <td>...</td>\n",
       "      <td>...</td>\n",
       "    </tr>\n",
       "    <tr>\n",
       "      <th>39795</th>\n",
       "      <td>1503</td>\n",
       "      <td>1844</td>\n",
       "      <td>3347</td>\n",
       "    </tr>\n",
       "    <tr>\n",
       "      <th>39796</th>\n",
       "      <td>1503</td>\n",
       "      <td>1423</td>\n",
       "      <td>2926</td>\n",
       "    </tr>\n",
       "    <tr>\n",
       "      <th>39797</th>\n",
       "      <td>1503</td>\n",
       "      <td>1718</td>\n",
       "      <td>3221</td>\n",
       "    </tr>\n",
       "    <tr>\n",
       "      <th>39798</th>\n",
       "      <td>1503</td>\n",
       "      <td>1714</td>\n",
       "      <td>3217</td>\n",
       "    </tr>\n",
       "    <tr>\n",
       "      <th>39799</th>\n",
       "      <td>1503</td>\n",
       "      <td>1923</td>\n",
       "      <td>3426</td>\n",
       "    </tr>\n",
       "  </tbody>\n",
       "</table>\n",
       "<p>39800 rows × 3 columns</p>\n",
       "</div>"
      ],
      "text/plain": [
       "       chiffre1  chiffre2  resultat\n",
       "0          1645      1995      3640\n",
       "1          1645      1658      3303\n",
       "2          1645      1062      2707\n",
       "3          1645      1472      3117\n",
       "4          1645      1710      3355\n",
       "...         ...       ...       ...\n",
       "39795      1503      1844      3347\n",
       "39796      1503      1423      2926\n",
       "39797      1503      1718      3221\n",
       "39798      1503      1714      3217\n",
       "39799      1503      1923      3426\n",
       "\n",
       "[39800 rows x 3 columns]"
      ]
     },
     "execution_count": 41,
     "metadata": {},
     "output_type": "execute_result"
    }
   ],
   "source": [
    "result = []\n",
    "for i,j,k in data.itertuples():\n",
    "    for l,m,n in data.itertuples():\n",
    "        if j == m:\n",
    "            continue\n",
    "        result.append([j, m, j + m])\n",
    "result = pd.DataFrame(result, columns=['chiffre1', 'chiffre2', 'resultat'])\n",
    "result"
   ]
  },
  {
   "cell_type": "code",
   "execution_count": 48,
   "id": "9172f700",
   "metadata": {},
   "outputs": [
    {
     "name": "stdout",
     "output_type": "stream",
     "text": [
      "Displaying the results : two lines should appear as both ways were calculated\n"
     ]
    },
    {
     "data": {
      "text/plain": [
       "28423    2020\n",
       "33176    2020\n",
       "Name: resultat, dtype: int64"
      ]
     },
     "execution_count": 48,
     "metadata": {},
     "output_type": "execute_result"
    }
   ],
   "source": [
    "print(\"Displaying the results : two lines should appear as both ways were calculated\")\n",
    "result['resultat'][result['resultat'] == 2020]"
   ]
  },
  {
   "cell_type": "code",
   "execution_count": 75,
   "id": "f798a578",
   "metadata": {},
   "outputs": [
    {
     "name": "stdout",
     "output_type": "stream",
     "text": [
      "The result has two elements which is ok\n",
      "Displaying the figures used to find the answer\n"
     ]
    },
    {
     "data": {
      "text/plain": [
       "chiffre1      28\n",
       "chiffre2    1992\n",
       "resultat    2020\n",
       "Name: 28423, dtype: int64"
      ]
     },
     "execution_count": 75,
     "metadata": {},
     "output_type": "execute_result"
    }
   ],
   "source": [
    "res_summary = result['resultat'][result['resultat'] == 2020]\n",
    "\n",
    "#Checking that there are only two results\n",
    "if res_summary.count() == 2:\n",
    "    print(\"The result has two elements which is ok\")\n",
    "else:\n",
    "    print(\"The result has MORE than two elements which is NOT normal\")\n",
    "\n",
    "#finding the first \n",
    "res_line = res_summary.index[0]\n",
    "\n",
    "#display the figues used to find the answer\n",
    "print('Displaying the figures used to find the answer')\n",
    "result.iloc[res_line]"
   ]
  },
  {
   "cell_type": "code",
   "execution_count": 83,
   "id": "5544f466",
   "metadata": {},
   "outputs": [
    {
     "name": "stdout",
     "output_type": "stream",
     "text": [
      "Final result : 55776\n"
     ]
    }
   ],
   "source": [
    "#multiplying the figures to find the answer\n",
    "\n",
    "final_res = result.iloc[res_line][0] * result.iloc[res_line][1]\n",
    "print('Final result : {}'.format(final_res))"
   ]
  },
  {
   "cell_type": "code",
   "execution_count": null,
   "id": "f88ba7a3",
   "metadata": {},
   "outputs": [],
   "source": []
  }
 ],
 "metadata": {
  "kernelspec": {
   "display_name": "Python 3",
   "language": "python",
   "name": "python3"
  },
  "language_info": {
   "codemirror_mode": {
    "name": "ipython",
    "version": 3
   },
   "file_extension": ".py",
   "mimetype": "text/x-python",
   "name": "python",
   "nbconvert_exporter": "python",
   "pygments_lexer": "ipython3",
   "version": "3.8.5"
  }
 },
 "nbformat": 4,
 "nbformat_minor": 5
}
